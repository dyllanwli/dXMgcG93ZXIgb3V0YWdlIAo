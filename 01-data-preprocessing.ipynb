{
 "cells": [
  {
   "cell_type": "code",
   "execution_count": 12,
   "metadata": {},
   "outputs": [],
   "source": [
    "import pandas as pd \n",
    "import numpy as np \n",
    "\n",
    "years = [\"2019\", \"2020\", \"2021\", \"2022\", \"2023\"]\n",
    "data_path = [\"data/\" + year + \"_Annual_Summary.csv\" for year in years]\n",
    "\n",
    "for p in data_path:\n",
    "    df = pd.read_csv(p)"
   ]
  },
  {
   "cell_type": "code",
   "execution_count": 13,
   "metadata": {},
   "outputs": [
    {
     "data": {
      "text/plain": [
       "Index(['Month', 'Date Event Began', 'Time Event Began', 'Date of Restoration',\n",
       "       'Time of Restoration', 'Area Affected', 'NERC Region', 'Alert Criteria',\n",
       "       'Event Type', 'Demand Loss (MW)', 'Number of Customers Affected'],\n",
       "      dtype='object')"
      ]
     },
     "execution_count": 13,
     "metadata": {},
     "output_type": "execute_result"
    }
   ],
   "source": [
    "df.columns"
   ]
  },
  {
   "cell_type": "code",
   "execution_count": 14,
   "metadata": {},
   "outputs": [
    {
     "data": {
      "text/plain": [
       "- Weather or natural disaster                                                       42\n",
       "Vandalism                                                                           40\n",
       "Suspicious Activity                                                                 36\n",
       "Severe Weather                                                                      33\n",
       "- Other                                                                             28\n",
       "- Suspicious activity                                                               25\n",
       "- Vandalism                                                                         20\n",
       "System Operations                                                                   18\n",
       "Actual Physical Attack/Vandalism                                                    13\n",
       "Transmission Interruption                                                           11\n",
       "- Unknown                                                                            9\n",
       "- Vandalism - Theft                                                                  8\n",
       "- Vandalism - Suspicious activity                                                    6\n",
       "- Transmission equipment failure                                                     6\n",
       "- Vandalism - Theft                                                                  6\n",
       "- Theft                                                                              5\n",
       "- Physical attack                                                                    3\n",
       "Cyber Event                                                                          3\n",
       "- Vandalism - Theft - Suspicious activity                                            3\n",
       "- Fuel supply emergency                                                              2\n",
       "- Theft - Suspicious activity                                                        2\n",
       "- Weather or natural disaster - Other                                                2\n",
       "- Physical attack - Vandalism - Other                                                2\n",
       "- Threat of physical attack                                                          2\n",
       "- Physical attack - Vandalism                                                        2\n",
       "- Failure at high voltage substation or switchyard - Weather or natural disaster     2\n",
       "- Physical attack - Vandalism - Suspicious activity                                  2\n",
       "- Unknown - Failure at high voltage substation or switchyard                         2\n",
       "- Failure at high voltage substation or switchyard - Other                           2\n",
       "Weather or natural disaster - Other                                                  1\n",
       "- Physical attack - Other                                                            1\n",
       "- Unknown - Vandalism                                                                1\n",
       "- Physical attack - Vandalism - Theft - Suspicious activity                          1\n",
       "- Physical attack - Generator loss or failure                                        1\n",
       "- Failure at high voltage substation or switchyard                                   1\n",
       "- Theft - Other                                                                      1\n",
       "- Physical attack - Vandalism - Suspicious activity                                  1\n",
       "- Vandalism - Theft - Suspicious activity - Other                                    1\n",
       "- Generator loss or failure                                                          1\n",
       "Name: Event Type, dtype: int64"
      ]
     },
     "execution_count": 14,
     "metadata": {},
     "output_type": "execute_result"
    }
   ],
   "source": [
    "df['Event Type'].value_counts()"
   ]
  },
  {
   "cell_type": "code",
   "execution_count": null,
   "metadata": {},
   "outputs": [],
   "source": []
  }
 ],
 "metadata": {
  "kernelspec": {
   "display_name": "base",
   "language": "python",
   "name": "python3"
  },
  "language_info": {
   "codemirror_mode": {
    "name": "ipython",
    "version": 3
   },
   "file_extension": ".py",
   "mimetype": "text/x-python",
   "name": "python",
   "nbconvert_exporter": "python",
   "pygments_lexer": "ipython3",
   "version": "3.9.12"
  }
 },
 "nbformat": 4,
 "nbformat_minor": 2
}
